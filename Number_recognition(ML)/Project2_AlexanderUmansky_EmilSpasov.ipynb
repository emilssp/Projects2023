{
 "cells": [
  {
   "attachments": {},
   "cell_type": "markdown",
   "metadata": {},
   "source": [
    "### VITBERG PROSJEKT: Alexander Umansky @alexanum [FYSMAT] & Emil Spasov @emilssp [FYSMAT]"
   ]
  },
  {
   "attachments": {},
   "cell_type": "markdown",
   "metadata": {},
   "source": [
    "## Introduction\n"
   ]
  },
  {
   "attachments": {},
   "cell_type": "markdown",
   "metadata": {},
   "source": [
    "Machine learning is becoming a more and more important tool for data analysis with application across fields and disciplines. In this project we willl makle use of the so called dictionary method. The goal is to make a program that is able to classify handwritten digits. Pre-given a training MNIST dataset our program projects new test-data onto the old train-data and fully autonomously draws conclusion based on the goodness of the fit. \n",
    "\n",
    "The MNIST dataset is a standard set that includes 5000 handwritten digits (0-9) each 28x28 pixles. The images are grayscaled with each pixel having a value from 0 to 256 but in this project we scale them to values between 0 and 1.\n",
    "\n",
    "Lets abstract from images and think of datasets as only sets of numbers. Given a training dataset $A$ (nxd), we can factor it out as $WH$ where $W$ is our Dictionary (mxd) and $H$ is is dxn matrix (with columns being the corresponding Latent values of $A$-columns). \n",
    "\n",
    "We will be using 2 different factorization methods SVD and ENFM to create our dictionaries. SVD is Singular value decomposition $A = USV$. Here $U$ will be the dictionary and $SV$ is the $H$ matrix. As mentioned earlier the data entries we work with are already non-negative. Therefore we can alternatively use ENMF (exemplar bases non-negative matrix factorization). An even simpler concept where we select a number of basises from $A$ at random. The main benefit of ENMF is that it does not require any training and factorization, wich becomes a big problem for large tasks rendering SVD method uselss. The downside is larger value errors when we calculate projections onto \"cones\" isntead of linear subspaces. To compensate for that a larger sample size is required. \n",
    "\n",
    "The Process of factorizing $A$ to get our dictionary is both time consuming and  expensive, therefore a more efficient way would be to select a number $d$ that gives a shorter run time yet still allows us to reconstruct a good enough A. On top of that if we choose $d$ too big we risk making our dictionary too generalized and actually decrease the accuracy of our code. In terms of our MNIST dataset out of the 5000 handwritten digits, ca. 500 for each digit is a big overkill and we can get away with much smaller d and still have good prediction capability. \n",
    "\n",
    "We have a Dictionary generated from test data $A$, now we want to test it using test data $B$. For each column $b$ in $B$ we project it on the columns of our dictionary, so that the distance between the projection and $b$ reveals how well $b$ fits the dictionary. Comparing projections on multiple dictionaries for each digit allows the program to decide the best fit.  \n"
   ]
  },
  {
   "cell_type": "code",
   "execution_count": 1,
   "metadata": {},
   "outputs": [],
   "source": [
    "import numpy as np\n",
    "import matplotlib.pyplot as plt\n",
    "from PIL import Image, ImageOps\n",
    "\n",
    "sdf = 10e-10 #sdf = safe division factor (used to be defualt)            \n",
    "DEFAULT_CLASSES = [0,1,2,3,4,5,6,7,8,9]                       "
   ]
  },
  {
   "attachments": {},
   "cell_type": "markdown",
   "metadata": {},
   "source": [
    "## Task 1"
   ]
  },
  {
   "cell_type": "code",
   "execution_count": 2,
   "metadata": {},
   "outputs": [
    {
     "name": "stdout",
     "output_type": "stream",
     "text": [
      "A_1 = \n",
      "[[1000    1]\n",
      " [   0    1]\n",
      " [   0    0]]\n",
      "\n",
      "A_2 = \n",
      "[[1 0 0]\n",
      " [1 0 0]\n",
      " [0 0 1]]\n",
      "\n",
      "B = \n",
      "[[2 0 0]\n",
      " [1 0 1]\n",
      " [0 1 0]]\n"
     ]
    }
   ],
   "source": [
    "A_1 = np.array([[1000,1 ], [0, 1], [0, 0]])\n",
    "A_2 = np.array([[1, 0, 0], [1, 0, 0], [0, 0, 1]])\n",
    "b_1 = np.array([2, 1, 0])\n",
    "b_2 = np.array([0, 0, 1])\n",
    "b_3 = np.array([0, 1, 0])\n",
    "B = np.array([b_1, b_2, b_3])\n",
    "print(\"A_1 = \")\n",
    "print(A_1)\n",
    "print('')\n",
    "print(\"A_2 = \")\n",
    "print(A_2)\n",
    "print('')\n",
    "print(\"B = \")\n",
    "print(B.T)"
   ]
  },
  {
   "attachments": {},
   "cell_type": "markdown",
   "metadata": {},
   "source": [
    "### Exercise 1a"
   ]
  },
  {
   "cell_type": "code",
   "execution_count": 3,
   "metadata": {},
   "outputs": [
    {
     "name": "stdout",
     "output_type": "stream",
     "text": [
      "U = \n",
      "[[ 1.e+00 -1.e-06]\n",
      " [ 1.e-06  1.e+00]\n",
      " [ 0.e+00  0.e+00]]\n",
      "S = \n",
      "[1.0000005e+03 9.9999950e-01]\n",
      "V = \n",
      "[[ 0.9999995  0.001    ]\n",
      " [-0.001      0.9999995]]\n",
      "Check orthonormality:\n",
      "UU* =\n",
      "[[1.00000000e+00 8.32531736e-23 0.00000000e+00]\n",
      " [8.32531736e-23 1.00000000e+00 0.00000000e+00]\n",
      " [0.00000000e+00 0.00000000e+00 0.00000000e+00]]\n",
      "U*U =\n",
      "[[ 1.00000000e+00 -8.32531736e-23]\n",
      " [-8.32531736e-23  1.00000000e+00]]\n",
      "V*V =\n",
      "[[1.00000000e+00 3.54566331e-21]\n",
      " [3.54566331e-21 1.00000000e+00]]\n",
      "VV* =\n",
      "[[ 1.00000000e+00 -3.54566331e-21]\n",
      " [-3.54566331e-21  1.00000000e+00]]\n"
     ]
    }
   ],
   "source": [
    "U, S, V = np.linalg.svd(A_1, full_matrices = False)\n",
    "print(\"U = \")\n",
    "print(U)\n",
    "print(\"S = \")\n",
    "print(S)\n",
    "print(\"V = \")\n",
    "print(V)\n",
    "\n",
    "print('Check orthonormality:')\n",
    "print('UU* =')\n",
    "print((U@U.T))\n",
    "print('U*U =')\n",
    "print(U.T@U)\n",
    "print('V*V =')\n",
    "print(V.T@V)\n",
    "print('VV* =')\n",
    "print(V@V.T)"
   ]
  },
  {
   "cell_type": "code",
   "execution_count": 4,
   "metadata": {},
   "outputs": [
    {
     "name": "stdout",
     "output_type": "stream",
     "text": [
      " \n",
      "Max Singular value: 1000.0005000003749\n",
      " \n",
      "Test reconstruction of A_1:\n",
      "[[ 1.00000000e+03  1.00000000e+00]\n",
      " [-2.18499053e-19  1.00000000e+00]\n",
      " [ 0.00000000e+00  0.00000000e+00]]\n",
      "\n",
      "[[ 1.00000000e+03  1.00000000e+00]\n",
      " [-2.18499053e-19  1.00000000e+00]\n",
      " [ 0.00000000e+00  0.00000000e+00]]\n"
     ]
    }
   ],
   "source": [
    "print(\" \")\n",
    "print(f\"Max Singular value: {np.max(S)}\")\n",
    "\n",
    "print(\" \")\n",
    "print(\"Test reconstruction of A_1:\")\n",
    "print((U*S)@V)\n",
    "print(\"\")\n",
    "print(U @ np.diag(S) @ V)   "
   ]
  },
  {
   "attachments": {},
   "cell_type": "markdown",
   "metadata": {},
   "source": [
    "In this section we are testing the numpy library function np.linalg.svd for $A_1$. As we see the resulting factors $U$, $S$ (in the rest of this document we will use $S$ instead of $\\Sigma$) and $V^T$ have correct dimensions, and $U$ and $V^T$ are both orthogonal. Reconstruction of $A$ is very close (with an error attributed to numerical error). Out of the two basises of $A_1$ we see that it is the first column that produces the largest singular value: 100. For reconstruction purposes this is the column that carries most information and is pivotal for accurate reconstruction."
   ]
  },
  {
   "attachments": {},
   "cell_type": "markdown",
   "metadata": {},
   "source": [
    "### Exercise 1b"
   ]
  },
  {
   "cell_type": "code",
   "execution_count": 5,
   "metadata": {},
   "outputs": [
    {
     "name": "stdout",
     "output_type": "stream",
     "text": [
      "U:\n",
      "[[-0.70710678  0.         -0.70710678]\n",
      " [-0.70710678  0.          0.70710678]\n",
      " [ 0.          1.          0.        ]]\n",
      "S\n",
      "[1.41421356 1.         0.        ]\n",
      "V\n",
      "[[-1. -0. -0.]\n",
      " [ 0.  0.  1.]\n",
      " [ 0.  1.  0.]]\n",
      " \n",
      "Check orthonormality:\n",
      "UU* =\n",
      "[[ 1.00000000e+00 -1.33393446e-16  0.00000000e+00]\n",
      " [-1.33393446e-16  1.00000000e+00  0.00000000e+00]\n",
      " [ 0.00000000e+00  0.00000000e+00  1.00000000e+00]]\n",
      "U*U =\n",
      "[[ 1.00000000e+00  0.00000000e+00 -1.33393446e-16]\n",
      " [ 0.00000000e+00  1.00000000e+00  0.00000000e+00]\n",
      " [-1.33393446e-16  0.00000000e+00  1.00000000e+00]]\n",
      "V*V =\n",
      "[[1. 0. 0.]\n",
      " [0. 1. 0.]\n",
      " [0. 0. 1.]]\n",
      "VV* =\n",
      "[[1. 0. 0.]\n",
      " [0. 1. 0.]\n",
      " [0. 0. 1.]]\n"
     ]
    }
   ],
   "source": [
    "U, S, V = np.linalg.svd(A_2, full_matrices = False)\n",
    "print(\"U:\")\n",
    "print(U)\n",
    "print(\"S\")\n",
    "print(S)\n",
    "print(\"V\")\n",
    "print(V)\n",
    "\n",
    "print(\" \")\n",
    "print('Check orthonormality:')\n",
    "print('UU* =')\n",
    "print((U@U.T))\n",
    "print('U*U =')\n",
    "print(U.T@U)\n",
    "print('V*V =')\n",
    "print(V.T@V)\n",
    "print('VV* =')\n",
    "print(V@V.T)\n"
   ]
  },
  {
   "cell_type": "code",
   "execution_count": 6,
   "metadata": {},
   "outputs": [
    {
     "name": "stdout",
     "output_type": "stream",
     "text": [
      "Max Singular: 1.4142135623730951\n",
      " \n",
      "Test reconstruction of A_2:\n",
      "[[1. 0. 0.]\n",
      " [1. 0. 0.]\n",
      " [0. 0. 1.]]\n"
     ]
    }
   ],
   "source": [
    "print(f\"Max Singular: {np.max(S)}\")\n",
    "\n",
    "print(\" \")\n",
    "print(\"Test reconstruction of A_2:\")\n",
    "print((U*S)@V)"
   ]
  },
  {
   "attachments": {},
   "cell_type": "markdown",
   "metadata": {},
   "source": [
    "SVD factorization of $A_2$ gives us one Singular value equal to 0. This means that during reconstruction of $A_2$ the column corresponding to this singular value in the dictionary is multiplied by 0 and is therefore unsignificant. Because of this, accurate reconstruction is possible with $d < 3$ columns in $U$ without significant information loss. This is directly linked to original matrix $A_2$ having two identical rows $[1, 0, 0]$. Reduced-SVD representation of this information can be safely done.\n"
   ]
  },
  {
   "attachments": {},
   "cell_type": "markdown",
   "metadata": {},
   "source": [
    "### Exercise 1c"
   ]
  },
  {
   "cell_type": "code",
   "execution_count": 7,
   "metadata": {},
   "outputs": [],
   "source": [
    "def trunc_SVD(U, S, V, d):\n",
    "    \"\"\"\n",
    "    Returns the first d columns of U \n",
    "\n",
    "    Args:\n",
    "        U (ndarray): Left singular matrix \n",
    "        d (_type_): Number of columns of U\n",
    "\n",
    "    Returns:\n",
    "        (ndarray): Dictionary with d columns\n",
    "    \"\"\"\n",
    "    H = S[:d]*V[:,:d]\n",
    "    W = U[:,:d]\n",
    "    return W, H\n",
    "\n",
    "def orth_proj(W, M):\n",
    "    \"\"\"projects matrix M onto plane W\n",
    "\n",
    "    Args:\n",
    "        W (ndarray): _description_\n",
    "        M (ndarry): _description_\n",
    "\n",
    "    Returns:\n",
    "        ndarray: Projections of M onto W\n",
    "    \"\"\"\n",
    "    P = W@(W.T@M)          \n",
    "    return P               \n",
    "\n",
    "def distance(P, M):\n",
    "    \"\"\"\n",
    "    Calculates the distance from a matrix to it's projection\n",
    "\n",
    "    Args:\n",
    "        P (ndarray): Projection\n",
    "        M (ndarray): Matrix\n",
    "\n",
    "    Returns:\n",
    "        float: distance between M and P, non-negative \n",
    "    \"\"\"\n",
    "    dist = np.linalg.norm(M-P, axis=0)\n",
    "    return dist\n",
    "\n",
    "def rand_basis_selection(M, d):\n",
    "    \"\"\" \n",
    "    Selects d random columns from M as basis\n",
    "\n",
    "    Args:\n",
    "        M (ndarray): matrix for a basis\n",
    "        d (ndarray): number of columns\n",
    "\n",
    "    Returns:\n",
    "        ndarray: non-negative basis \n",
    "    \"\"\"\n",
    "    idx=[]\n",
    "    A = np.copy(M.T)\n",
    "    i=0\n",
    "    \n",
    "    while i<d:\n",
    "        q = np.random.randint(0, A.shape[0])\n",
    "        if not q in idx:\n",
    "            idx.append(q)\n",
    "            i+=1\n",
    "    idx=np.array(idx)\n",
    "    idx = np.sort(idx)\n",
    "    W=A[idx]\n",
    "\n",
    "    return W.T\n",
    "\n",
    "def nnproj(W, M, max_iter = 50): \n",
    "    \"\"\"\n",
    "    Prohects M on non negative basis W\n",
    "\n",
    "    Args:\n",
    "        W (ndarray): Projection plane\n",
    "        M (ndarray): Projection object\n",
    "        max_iter (int, optional): number of iteration for approximating H. Defaults to 50.\n",
    "\n",
    "    Returns:\n",
    "        ndarray: projection of M on W\n",
    "    \"\"\"\n",
    "    if len(M.shape)>1: \n",
    "        H_init = np.random.uniform(0 , 1, (W.shape[1], M.shape[1]))   #should have same dims as WtrM one from W and other from M (check if this makes sense mathematically !)\n",
    "    else:\n",
    "        H_init = np.random.uniform(0 , 1, (W.shape[1], ))   #should have same dims as WtrM one from W and other from M (check if this makes sense mathematically !)\n",
    "\n",
    "    WtrM = W.T@M\n",
    "    WtrW = W.T@W\n",
    "\n",
    "    H_k = np.copy(H_init)\n",
    "    for k in range(1, max_iter):\n",
    "        H_k = H_k*WtrM/(WtrW@H_k + sdf)\n",
    "    P = W@H_k     # maybe W has to be transposed and not H\n",
    "    return P\n"
   ]
  },
  {
   "attachments": {},
   "cell_type": "markdown",
   "metadata": {},
   "source": [
    "### Exercise 1c\n"
   ]
  },
  {
   "cell_type": "code",
   "execution_count": 8,
   "metadata": {},
   "outputs": [
    {
     "name": "stdout",
     "output_type": "stream",
     "text": [
      "A_1:\n",
      "[[1000    1]\n",
      " [   0    1]\n",
      " [   0    0]]\n",
      "\n",
      "B:\n",
      "[[2 1 0]\n",
      " [0 0 1]\n",
      " [0 1 0]]\n",
      "\n",
      "W:\n",
      "[[ 1.e+00 -1.e-06]\n",
      " [ 1.e-06  1.e+00]\n",
      " [ 0.e+00  0.e+00]]\n",
      "\n",
      "P:\n",
      "[[2.00000000e+00 1.00000000e+00 8.32531736e-23]\n",
      " [1.66506347e-22 8.32531736e-23 1.00000000e+00]\n",
      " [0.00000000e+00 0.00000000e+00 0.00000000e+00]]\n",
      "\n",
      "D:\n",
      "[2.22044605e-16 1.00000000e+00 1.11022302e-16]\n"
     ]
    }
   ],
   "source": [
    "print(\"A_1:\")\n",
    "print(A_1)\n",
    "print(\"\\nB:\")\n",
    "print(B)\n",
    "U, S, V = np.linalg.svd(A_1, full_matrices = False)\n",
    "W, H = trunc_SVD(U, S, V, d=3-1)\n",
    "print(\"\\nW:\")\n",
    "print(W)\n",
    "P = orth_proj(W, B)\n",
    "D = distance(P, B)\n",
    "print(\"\\nP:\")\n",
    "print(P)\n",
    "print(\"\\nD:\")\n",
    "print(D)"
   ]
  },
  {
   "cell_type": "code",
   "execution_count": 9,
   "metadata": {},
   "outputs": [
    {
     "name": "stdout",
     "output_type": "stream",
     "text": [
      "A_2:\n",
      "[[1 0 0]\n",
      " [1 0 0]\n",
      " [0 0 1]]\n",
      "\n",
      "B:\n",
      "[[2 1 0]\n",
      " [0 0 1]\n",
      " [0 1 0]]\n",
      "\n",
      "P:\n",
      "[[1.  0.5 0.5]\n",
      " [1.  0.5 0.5]\n",
      " [0.  1.  0. ]]\n",
      "\n",
      "D:\n",
      "[1.41421356 0.70710678 0.70710678]\n"
     ]
    }
   ],
   "source": [
    "print(\"A_2:\")\n",
    "print(A_2)\n",
    "print(\"\\nB:\")\n",
    "print(B)\n",
    "U, S, V = np.linalg.svd(A_2, full_matrices = False)\n",
    "W, H = trunc_SVD(U, S, V, d=3-1)\n",
    "P = orth_proj(W, B)\n",
    "D = distance(P, B)\n",
    "print(\"\\nP:\")\n",
    "print(P)\n",
    "print(\"\\nD:\")\n",
    "print(D)"
   ]
  },
  {
   "attachments": {},
   "cell_type": "markdown",
   "metadata": {},
   "source": [
    "Projecting $B$ on dictionary we acquire from $A_1$ gives us Distance vector $[0, 1, 0]$. Meaning excellent matching for columns 1 and 3, and worse for 2. \n",
    "Projecting B on dictionary we acquire from $A_2$ gives us higher distances and therefore worse overall fit."
   ]
  },
  {
   "cell_type": "markdown",
   "metadata": {},
   "source": [
    "### Exercise 1d"
   ]
  },
  {
   "cell_type": "code",
   "execution_count": 10,
   "metadata": {},
   "outputs": [
    {
     "name": "stdout",
     "output_type": "stream",
     "text": [
      "B:\n",
      "[[2 1 0]\n",
      " [0 0 1]\n",
      " [0 1 0]]\n",
      "\n",
      "W:\n",
      "[[1000    1]\n",
      " [   0    1]\n",
      " [   0    0]]\n"
     ]
    }
   ],
   "source": [
    "#testing dictionary generator\n",
    "print(\"B:\")\n",
    "print(B)\n",
    "W = rand_basis_selection(A_1, d = 2)\n",
    "print(\"\\nW:\")\n",
    "print(W)"
   ]
  },
  {
   "cell_type": "code",
   "execution_count": 11,
   "metadata": {},
   "outputs": [
    {
     "name": "stdout",
     "output_type": "stream",
     "text": [
      "A_1:\n",
      "[[1000    1]\n",
      " [   0    1]\n",
      " [   0    0]]\n",
      "\n",
      "B:\n",
      "[[2 1 0]\n",
      " [0 0 1]\n",
      " [0 1 0]]\n",
      "\n",
      "P:\n",
      "[[1.99999894e+00 9.99998851e-01 5.00000000e-01]\n",
      " [1.45630726e-03 1.07155918e-03 5.00000000e-01]\n",
      " [0.00000000e+00 0.00000000e+00 0.00000000e+00]]\n",
      "\n",
      "D:\n",
      "[0.00145631 1.00000057 0.70710678]\n"
     ]
    }
   ],
   "source": [
    "print(\"A_1:\")\n",
    "print(A_1)\n",
    "print(\"\\nB:\")\n",
    "print(B)\n",
    "\n",
    "W = rand_basis_selection(A_1, d=2)                \n",
    "P = nnproj(W, B, max_iter = 50)\n",
    "print(\"\\nP:\")\n",
    "print(P)\n",
    "\n",
    "D = distance(P, B)\n",
    "print(\"\\nD:\")\n",
    "print(D)"
   ]
  },
  {
   "attachments": {},
   "cell_type": "markdown",
   "metadata": {},
   "source": [
    "This section is testing the ENMF approach for the same training and test sets as we used for SVD. What used to give very small distances are now much larger up to the point where you can be sure it’s a good fit anymore. This is caused by ENMF method’s numerical error"
   ]
  },
  {
   "attachments": {},
   "cell_type": "markdown",
   "metadata": {},
   "source": [
    "## Task 2 "
   ]
  },
  {
   "attachments": {},
   "cell_type": "markdown",
   "metadata": {},
   "source": [
    "### Exercise 2a"
   ]
  },
  {
   "cell_type": "code",
   "execution_count": 12,
   "metadata": {},
   "outputs": [
    {
     "name": "stdout",
     "output_type": "stream",
     "text": [
      "(784, 10, 800)\n"
     ]
    },
    {
     "data": {
      "image/png": "[encoded data removed]",
      "text/plain": [
       "<Figure size 432x288 with 16 Axes>"
      ]
     },
     "metadata": {},
     "output_type": "display_data"
    }
   ],
   "source": [
    "# Load the data and resclae\n",
    "train = np.load('train.npy')/255.0\n",
    "test = np.load('test.npy')/255.0\n",
    "\n",
    "\n",
    "print(test.shape)\n",
    "\n",
    "def plotimgs(imgs, nplot = 4):\n",
    "    \"\"\"\n",
    "    Plots the nplot*nplot first images in imgs on an nplot x nplot grid. \n",
    "    Assumes heigth = width, and that the images are stored columnwise\n",
    "    input:\n",
    "        imgs: (height*width,N) array containing images, where N > nplot**2\n",
    "        nplot: integer, nplot**2 images will be plotted\n",
    "    \"\"\"\n",
    "\n",
    "    n = imgs.shape[1]\n",
    "    m = int(np.sqrt(imgs.shape[0]))\n",
    "\n",
    "    assert(n >= nplot**2), \"Need amount of data in matrix N > nplot**2\"\n",
    "\n",
    "    # Initialize subplots\n",
    "    fig, axes = plt.subplots(nplot,nplot)\n",
    "\n",
    "    # Set background color\n",
    "    plt.gcf().set_facecolor(\"lightgray\")\n",
    "\n",
    "    # Iterate over images\n",
    "    for idx in range(nplot**2):\n",
    "\n",
    "        # Break if we go out of bounds of the array\n",
    "        if idx >= n:\n",
    "            break\n",
    "\n",
    "        # Indices\n",
    "        i = idx//nplot; j = idx%nplot\n",
    "            # Remove axis\n",
    "        axes[i,j].axis('off')\n",
    "\n",
    "        axes[i,j].imshow(imgs[:,idx].reshape((m,m)), cmap = \"gray\")\n",
    "    \n",
    "    # Plot\n",
    "\n",
    "    fig.tight_layout()\n",
    "    plt.show()\n",
    "\n",
    "\n",
    "plotimgs(train[:,4,:], nplot = 4)\n",
    "#s\\"
   ]
  },
  {
   "attachments": {},
   "cell_type": "markdown",
   "metadata": {},
   "source": [
    "### Exercise 2b"
   ]
  },
  {
   "cell_type": "code",
   "execution_count": 13,
   "metadata": {},
   "outputs": [
    {
     "name": "stdout",
     "output_type": "stream",
     "text": [
      "(16, 784)\n"
     ]
    },
    {
     "data": {
      "image/png": "[encoded data removed]",
      "text/plain": [
       "<Figure size 432x288 with 1 Axes>"
      ]
     },
     "metadata": {
      "needs_background": "light"
     },
     "output_type": "display_data"
    },
    {
     "data": {
      "image/png": "[encoded data removed]",
      "text/plain": [
       "<Figure size 432x288 with 16 Axes>"
      ]
     },
     "metadata": {},
     "output_type": "display_data"
    }
   ],
   "source": [
    "d=16\n",
    "A=train[:,4,:]\n",
    "U, S, V = np.linalg.svd(A, full_matrices = False)\n",
    "W, H = trunc_SVD(U, S, V, d)\n",
    "print(W.T.shape)\n",
    "plt.semilogy(S[:16])\n",
    "plt.ylabel(\"Log scale for Singular Values\")\n",
    "plt.xlabel(\"$d$ selected singular values\")\n",
    "\n",
    "plt.title(\"First 16 Singular Values of A\")\n",
    "plt.show()\n",
    "plotimgs(W)"
   ]
  },
  {
   "attachments": {},
   "cell_type": "markdown",
   "metadata": {},
   "source": [
    "Above is a demonstration of the information provided about the digit 4 for different values of $d$. It seems as if the quality worsens from the 2 upper rows (d: 1-8) to the bottom 2 rows (d: 8-16). While the top images succeed in representing key attributes of the digit 4 like the “leg” and the “hook”, the ones on the bottom are a blury mesh of multiple different “styles” that can easily be mistaken with other digits. \n",
    "The suplementrary plot shows logarithmic scale of singular values as function of increasing d. The highest singular values correspond to the most precise images, as more infromation is stored, while the \"messy\" ones correspond to lowest Singular values. \n"
   ]
  },
  {
   "attachments": {},
   "cell_type": "markdown",
   "metadata": {},
   "source": [
    "### Exercise 2c"
   ]
  },
  {
   "cell_type": "code",
   "execution_count": 14,
   "metadata": {},
   "outputs": [
    {
     "data": {
      "image/png": "[encoded data removed]",
      "text/plain": [
       "<Figure size 432x288 with 10 Axes>"
      ]
     },
     "metadata": {
      "needs_background": "light"
     },
     "output_type": "display_data"
    }
   ],
   "source": [
    "A = train[:,4,:]\n",
    "b = train[:,0,0]\n",
    "fig, axs = plt.subplots(2,5)\n",
    "fig.suptitle(\"Number 4/0 and its projections on $W$ trained on 4 for $d \\in [16,32,64,128]$\")\n",
    "k = 4\n",
    "d = 16\n",
    "U, S, V = np.linalg.svd(A, full_matrices = False)\n",
    "axs[0][0].imshow(A[:,1].reshape((28, 28)), cmap = \"gray\")\n",
    "axs[0][0].set_axis_off()\n",
    "axs[1][0].imshow(b.reshape((28, 28)), cmap = \"gray\")\n",
    "axs[1][0].set_axis_off()\n",
    "for i in range (1,k+1):\n",
    "    W, H = trunc_SVD(U, S, V, d)\n",
    "    proj_A = orth_proj(W, A[:,1])\n",
    "    proj_b = orth_proj(W,b)\n",
    "    axs[0][i].imshow(proj_A.reshape((28, 28)), cmap = \"gray\")\n",
    "    axs[0][i].set_axis_off()\n",
    "    axs[1][i].imshow(proj_b.reshape((28, 28)), cmap = \"gray\")\n",
    "    axs[1][i].set_axis_off()\n",
    "    d = 2*d"
   ]
  },
  {
   "attachments": {},
   "cell_type": "markdown",
   "metadata": {},
   "source": [
    "We test our dictionary with the same digit it has been trained to recongize. As $d$ increases, we get an image that more accurately resembles the test input. This visually follows from the projection lining up well and the image being sharp with well defined contour. The last $d = 128$ is a very good copy, tho even for  $d = 16$ the shape of the digit is recognizable, tho blury.  $$ $$\n",
    "Now we test with a different digit, program was not trained for. The quality drop is significant and the projection is clearly off, as the first images are a collage of both digits all blured out. For the last image it looks like 0 is the most dominant shape and the conotur is well defined.\n"
   ]
  },
  {
   "attachments": {},
   "cell_type": "markdown",
   "metadata": {},
   "source": [
    "### Exercise 2d"
   ]
  },
  {
   "cell_type": "code",
   "execution_count": 15,
   "metadata": {},
   "outputs": [
    {
     "name": "stdout",
     "output_type": "stream",
     "text": [
      "(784,)\n"
     ]
    },
    {
     "data": {
      "image/png": "[encoded data removed]",
      "text/plain": [
       "<Figure size 432x288 with 1 Axes>"
      ]
     },
     "metadata": {
      "needs_background": "light"
     },
     "output_type": "display_data"
    }
   ],
   "source": [
    "k = np.linspace(1,784,27,dtype=\"int\")\n",
    "dist = np.zeros((2,k.size))\n",
    "print(proj_A.shape)\n",
    "img = A[:,1]\n",
    "for i in range(k.size):\n",
    "    W, H = trunc_SVD(U, S ,V, k[i])\n",
    "    proj_A = orth_proj(W,img)\n",
    "    proj_b = orth_proj(W,b)\n",
    "    dist[0][i] = distance(proj_A, img)\n",
    "    dist[1][i] = distance(proj_b, b)\n",
    "\n",
    "S_k = np.zeros(k.size)\n",
    "for i in range(k.size):\n",
    "    S_k[i] = S[k[i]-1]\n",
    "plt.semilogy(k,dist[0],label=\"$||A-P_W(A)||_F^2$\")\n",
    "plt.semilogy(k,dist[1],label=\"$||b-P_W(b)||_F^2$\")\n",
    "plt.semilogy(k, S_k, label = \"Corresponding $S$ vals\" )\n",
    "plt.ylabel(\"Log scaled values\")\n",
    "plt.xlabel(\"$d$ selected bases\")\n",
    "plt.legend()\n",
    "plt.show()"
   ]
  },
  {
   "attachments": {},
   "cell_type": "markdown",
   "metadata": {},
   "source": [
    "Now we analyse the Distance graphically as function of $d$ for the 2 scenarios described in 2c aswell as the Singular values. We recall from 2b that the size of the Singular values is a way of saying how much infromation is collected. More information correlates with the distance being smaller. It is therefore no suprise that the green graph is closely alligned witht he other two, and get the same overall behaviour. The graphs begins slowly decreasing until approximately d = 550 after that the distance quickly drops substantially. "
   ]
  },
  {
   "attachments": {},
   "cell_type": "markdown",
   "metadata": {},
   "source": [
    "### Exercise 2e"
   ]
  },
  {
   "cell_type": "code",
   "execution_count": 16,
   "metadata": {},
   "outputs": [
    {
     "data": {
      "image/png": "[encoded data removed]",
      "text/plain": [
       "<Figure size 432x288 with 18 Axes>"
      ]
     },
     "metadata": {
      "needs_background": "light"
     },
     "output_type": "display_data"
    }
   ],
   "source": [
    "A=train[:,4,:]\n",
    "k = 16\n",
    "\n",
    "fig,axs = plt.subplots(2,k//2+1)\n",
    "fig.tight_layout(pad=-3)\n",
    "fig.suptitle(\"Number 4 and its projections \\non 16 dictionaries with $d=32$\")\n",
    "\n",
    "d = 32\n",
    "\n",
    "axs[0,0].imshow(A[:,1].reshape((28,28)), cmap = \"gray\")\n",
    "axs[0,0].set_axis_off()\n",
    "#axs[1,0].imshow(A[:,1].reshape((28,28)), cmap = \"gray\")\n",
    "axs[1,0].set_axis_off()\n",
    "for j in range(2):\n",
    "    for i in range (1,k//2+1):\n",
    "        W = rand_basis_selection(A,d)\n",
    "        proj_A=nnproj(W,A[:,1],d)\n",
    "        axs[j,i].imshow(proj_A.reshape((28,28)), cmap = \"gray\")\n",
    "        axs[j,i].set_axis_off()"
   ]
  },
  {
   "attachments": {},
   "cell_type": "markdown",
   "metadata": {},
   "source": [
    "Above we demenstrate the ENMF mothod by selecting 32 random columns from A and ploting the projections. Due to random selection there is no quality rating and both good and bad fits come in no paritcular order. Once again you se the difference between a good fit and a bad one, by how blury the contours of the digit are. The better ones are much sharper and overall the digit is well contrasted (no gradient near the contour)."
   ]
  },
  {
   "attachments": {},
   "cell_type": "markdown",
   "metadata": {},
   "source": [
    "### Exercise 2f"
   ]
  },
  {
   "cell_type": "code",
   "execution_count": 17,
   "metadata": {},
   "outputs": [
    {
     "data": {
      "image/png": "[encoded data removed]",
      "text/plain": [
       "<Figure size 432x288 with 1 Axes>"
      ]
     },
     "metadata": {
      "needs_background": "light"
     },
     "output_type": "display_data"
    }
   ],
   "source": [
    "d_arr = np.logspace(1,3,num=10, dtype = np.int64)\n",
    "b=train[:,4,0]\n",
    "dist = np.zeros((2,d_arr.size))\n",
    "\n",
    "for i in range(d_arr.size):\n",
    "    W = rand_basis_selection(A,d_arr[i])\n",
    "    proj_A=nnproj(W,A[:,1])\n",
    "    proj_b=nnproj(W,b)\n",
    "    dist[0][i]=distance(proj_A,A[:,1])\n",
    "    dist[1][i]=distance(proj_b,b)\n",
    "\n",
    "plt.semilogy(d_arr,dist[0],label=\"$||A-P_W(A)||_F^2$\")\n",
    "plt.semilogy(d_arr,dist[1],label=\"$||b-P_W(b)||_F^2$\")\n",
    "plt.ylabel(\"Log scaled values\")\n",
    "plt.xlabel(\"$d$ selected bases\")\n",
    "plt.legend()\n",
    "plt.show()\n",
    "        \n"
   ]
  },
  {
   "attachments": {},
   "cell_type": "markdown",
   "metadata": {},
   "source": [
    "Above is another plot that demosntrates how the distance changes as function of $d$ only this time for EMNF. Remember from 2d that with SVD we had a slow and then fast projection improvement. In the case with EMNF its somewhat different as the exact behaviour does now also depend on what kind of characters we choose and how many digits are used for training. There might accur sudden turning points after wich the distance suddenly jumps up, however the general trend is an immideadte but steady decreasment of distance. "
   ]
  },
  {
   "attachments": {},
   "cell_type": "markdown",
   "metadata": {},
   "source": [
    "## Task 3"
   ]
  },
  {
   "attachments": {},
   "cell_type": "markdown",
   "metadata": {},
   "source": [
    "### Exercise 3a"
   ]
  },
  {
   "cell_type": "code",
   "execution_count": 18,
   "metadata": {},
   "outputs": [],
   "source": [
    "def create_dict_matrix_SVD(train, d):\n",
    "    \"\"\"Creates an array of dictionaries for classes 0-9 \n",
    "    using the SVD method\n",
    "\n",
    "    Args:\n",
    "        train (ndarray): train set, \n",
    "        d (_type_): number of columns for each dictionary\n",
    "\n",
    "    Returns:\n",
    "        ndarray: an array with dictionaries \n",
    "    \"\"\"\n",
    "    W = []  \n",
    "    for i in range(train.shape[1]):\n",
    "        U, S, V = np.linalg.svd(train[:,i,:], full_matrices = False)\n",
    "        W.append(trunc_SVD(U, S, V, d)[0])\n",
    "    W = np.transpose(np.array(W),(1,0,2))\n",
    "    return W\n",
    "\n",
    "def create_dict_matrix_ENMF(train, d):\n",
    "    \"\"\"Creates an array of dictionaries for classes 0-9 \n",
    "    using the ENMF method\n",
    "\n",
    "    Args:\n",
    "        train (ndarray): train set, \n",
    "        d (_type_): number of columns for each dictionary\n",
    "\n",
    "    Returns:\n",
    "        ndarray: an array with dictionaries \n",
    "    \"\"\"\n",
    "    W = []\n",
    "    for i in range(train.shape[1]):\n",
    "        W_temp = rand_basis_selection(train[:,i,:],d)                        \n",
    "        W.append(W_temp)\n",
    "    W = np.transpose(np.array(W),(1,0,2))\n",
    "    return W\n",
    "\n",
    "W_SVD = create_dict_matrix_SVD(train, d = 32)\n",
    "W_ENMF = create_dict_matrix_ENMF(train, d = 32)"
   ]
  },
  {
   "cell_type": "code",
   "execution_count": 19,
   "metadata": {},
   "outputs": [],
   "source": [
    "def bestfit_SVD(W_SVD, classes, b):\n",
    "    \"\"\"Calculates the distance from b to its projection on each element of W_SVD\n",
    "    using SVD method\n",
    "    Args:\n",
    "        W_SVD (ndarray): array of dictionaries\n",
    "        classes (list): list with allowed classes\n",
    "        b (ndarray): a test object\n",
    "\n",
    "    Returns:\n",
    "        ndarray: distance to the projection on each plane in W_SVD\n",
    "        int: class that gives minimal distance \n",
    "    \"\"\"\n",
    "    dist = []\n",
    "    for i in range(W_SVD.shape[1]):\n",
    "        dist.append(np.linalg.norm(distance(orth_proj(W_SVD[:, i,:],b),b)))\n",
    "    dist = np.array(dist)\n",
    "    return dist, classes[np.argmin(dist)]\n",
    "\n",
    "def score_dataset_SVD(W_SVD, classes, B):\n",
    "    \"\"\" apply bestfit_SVD to all instances of classes in B\n",
    "\n",
    "    Args:\n",
    "        W_SVD (ndarray): array of dictionaries\n",
    "        classes (list): list with allowed classes\n",
    "        B (ndarray): array of test objects \n",
    "\n",
    "    Returns:\n",
    "        ndarray: distance to the projection on each plane in W_SVD\n",
    "        ndarray: classes that minimal distance for each object in B \n",
    "    \"\"\"\n",
    "    D = []\n",
    "    numbers = []\n",
    "    for i in range(B.shape[1]):\n",
    "        for j in range(B.shape[2]):\n",
    "            D_temp,number = bestfit_SVD(W_SVD,classes,B[:,i,j])\n",
    "            D.append(D_temp)\n",
    "            numbers.append(number)\n",
    "    D = np.array(D)\n",
    "    numbers = np.array(numbers)\n",
    "    return D, numbers\n",
    "\n",
    "def bestfit_ENMF(W_ENMF, classes, b):\n",
    "    \"\"\"Calculates the distance from b to its projection on each element of W_ENMF\n",
    "    using ENMF method\n",
    "\n",
    "    Args:\n",
    "        W_ENMF (ndarray): array of dictionaries\n",
    "        classes (list): list with allowed classes\n",
    "        b (ndarray): a test object\n",
    "\n",
    "    Returns:\n",
    "        ndarray: distance to the projection on each plane in W_ENMF\n",
    "        int: class that gives minimal distance \n",
    "    \"\"\"\n",
    "    dist = []\n",
    "    for i in range(W_ENMF.shape[1]):\n",
    "        dist.append(np.linalg.norm(distance(nnproj(W_ENMF[:,i,:],b),b)))\n",
    "    dist = np.array(dist)\n",
    "    return dist, classes[np.argmin(dist)]\n",
    "\n",
    "def score_dataset_ENMF(W_ENMF,classes, B):\n",
    "    \"\"\" apply bestfit_ENMF to all instances of classes in B\n",
    "\n",
    "    Args:\n",
    "        W_ENMF (ndarray): array of dictionaries\n",
    "        classes (list): list with allowed classes\n",
    "        B (ndarray): array of test objects \n",
    "\n",
    "    Returns:\n",
    "        ndarray: distance to the projection on each plane in W_ENMF\n",
    "        ndarray: classes that minimal distance for each object in B \n",
    "    \"\"\"\n",
    "    D = []\n",
    "    numbers = []\n",
    "    for i in range(B.shape[1]):\n",
    "        for j in range(B.shape[2]):\n",
    "            D_temp, number = bestfit_ENMF(W_ENMF,classes,B[:,i,j])\n",
    "            D.append(D_temp)\n",
    "            numbers.append(number)\n",
    "    D = np.array(D)\n",
    "    numbers = np.array(numbers)\n",
    "\n",
    "    return D, numbers"
   ]
  },
  {
   "attachments": {},
   "cell_type": "markdown",
   "metadata": {},
   "source": [
    "### Exercise 3b"
   ]
  },
  {
   "cell_type": "code",
   "execution_count": 20,
   "metadata": {},
   "outputs": [],
   "source": [
    "def test_img_selection(test,n, numbers=[], mode='single'):\n",
    "    \"\"\" Selects instances from test set\n",
    "\n",
    "    Args:\n",
    "        test (ndarray): Test set\n",
    "        n (int): number of objects to be picked from test when numbers is not specified\n",
    "        numbers (list, optional): Classes of which to get instances from the test set. \n",
    "            If default [] pick random number(s) 0-9.\n",
    "        mode (str, optional): Pick one or multiple instances of each number in the test set.\n",
    "            'single'/'multiple' . Defaults to 'single'.\n",
    "\n",
    "    Returns:\n",
    "        ndarray: Array with instances from the test set\n",
    "    \"\"\"\n",
    "    nums = []\n",
    "    Bj=[]\n",
    "    i=0\n",
    "    if not numbers:\n",
    "        if mode=='single':\n",
    "            while i<n:\n",
    "                j = np.random.randint(0, test.shape[1])\n",
    "                k = np.random.randint(0, test.shape[2])\n",
    "                if not j in nums:\n",
    "                    nums.append(j)\n",
    "                    Bj.append(test[:,j,k])\n",
    "                    i+=1\n",
    "            return np.array(Bj).T, np.array(nums)\n",
    "\n",
    "        if mode == 'multiple':\n",
    "            while i<n:\n",
    "                j = np.random.randint(0, test.shape[1])\n",
    "                if not j in nums:\n",
    "                    nums.append(j)\n",
    "                    Bj.append(test[:,j,:])\n",
    "                    i+=1\n",
    "            return np.array(Bj).transpose(1,0,2), np.array(nums)\n",
    "    else:\n",
    "        if mode=='single':\n",
    "            while i<len(numbers):\n",
    "                j = numbers[i]\n",
    "                k = np.random.randint(0, test.shape[2])\n",
    "                if not j in nums:\n",
    "                    nums.append(j)\n",
    "                    Bj.append(test[:,j,k])\n",
    "                    i+=1\n",
    "            return np.array(Bj).T, np.array(nums)\n",
    "\n",
    "        if mode == 'multiple':\n",
    "            while i<len(numbers):\n",
    "                j = numbers[i]\n",
    "                if not j in nums:\n",
    "                    nums.append(j)\n",
    "                    Bj.append(test[:,j,:])\n",
    "                    i+=1\n",
    "            return np.array(Bj).transpose(1,0,2), np.array(nums)\n",
    "   "
   ]
  },
  {
   "cell_type": "code",
   "execution_count": 21,
   "metadata": {},
   "outputs": [],
   "source": [
    "def accuracy(B,nums, n, classes= DEFAULT_CLASSES, mode = 'multiple', method='svd'):\n",
    "    \"\"\"Calculates the accuracy of predictions\n",
    "\n",
    "    Args:\n",
    "        B (ndarray): array with objects to classify\n",
    "        nums (ndarray): the numbers each object in B represents\n",
    "        n (int): number of objects\n",
    "        classes (ndarray, optional): array with classes. Defaults to DEFAULT_CLASSES.\n",
    "        mode (str, optional): Either'single'/'multiple' instances of each class. Defaults to 'multiple'.\n",
    "        method (str, optional): Method of classification. Either'svd'/'enmf. Defaults to 'svd'.\n",
    "\n",
    "    Returns:\n",
    "        _type_: _description_\n",
    "    \"\"\"\n",
    "    accurate=0\n",
    "    right = []\n",
    "    wrong = []\n",
    "\n",
    "    if method=='svd':\n",
    "        if mode =='single':\n",
    "            for i in range(n):\n",
    "                class_SVD=bestfit_SVD(W_SVD,classes,B[:,i])[1]\n",
    "                if class_SVD==nums[i]:\n",
    "                    accurate +=1 \n",
    "                    right.append(B[:,i])\n",
    "                else:\n",
    "                    wrong.append(B[:,i])\n",
    "            return accurate/n,np.array(right),np.array(wrong)\n",
    "\n",
    "        if mode =='multiple':\n",
    "            class_SVD=score_dataset_SVD(W_SVD,classes,B)[1]\n",
    "            for i in range(n):\n",
    "                \n",
    "                acc_temp = np.sum(class_SVD[i*B.shape[2]:(i+1)*B.shape[2]]==nums[i])\n",
    "                \n",
    "                accurate += acc_temp\n",
    "            return accurate/(n*B.shape[2])\n",
    "\n",
    "    elif method == 'enmf':\n",
    "        if mode =='multiple':\n",
    "            class_ENMF=score_dataset_ENMF(W_ENMF,classes,B)[1]\n",
    "            for i in range(n):\n",
    "                acc_temp = np.sum(class_ENMF[i*B.shape[2]:(i+1)*B.shape[2]]==nums[i])\n",
    "                \n",
    "                accurate += acc_temp\n",
    "            return accurate/(n*B.shape[2])\n",
    "\n",
    "        if mode == 'single':\n",
    "            for i in range(n):\n",
    "                class_ENMF=bestfit_ENMF(W_ENMF,classes,B[:,i])[1]\n",
    "                if class_ENMF==nums[i]:\n",
    "                    accurate +=1 \n",
    "                    right.append(B[:,i])\n",
    "                else:\n",
    "                    wrong.append(B[:,i])\n",
    "            return accurate/n, np.array(right), np.array(wrong)"
   ]
  },
  {
   "cell_type": "code",
   "execution_count": 22,
   "metadata": {},
   "outputs": [
    {
     "name": "stdout",
     "output_type": "stream",
     "text": [
      "SVD total accuracy: 95.38%\n",
      "ENMF total accuracy: 91.04%\n"
     ]
    }
   ],
   "source": [
    "n=3\n",
    "B, nums = test_img_selection(test,n,[4,6,7],mode = 'multiple')\n",
    "print(\"SVD total accuracy: {:.2f}%\".format(accuracy(B,nums,n)*100))\n",
    "print(\"ENMF total accuracy: {:.2f}%\".format(accuracy(B,nums,n,method='enmf')*100))"
   ]
  },
  {
   "cell_type": "code",
   "execution_count": 23,
   "metadata": {},
   "outputs": [
    {
     "name": "stdout",
     "output_type": "stream",
     "text": [
      "SVD total accuracy: 100.00%\n",
      "ENMF total accuracy: 100.00%\n"
     ]
    }
   ],
   "source": [
    "B, nums = test_img_selection(test,n,[0, 1, 3],mode = 'single')\n",
    "print(\"SVD total accuracy: {:.2f}%\".format(accuracy(B,nums,n,mode='single')[0]*100))\n",
    "print(\"ENMF total accuracy: {:.2f}%\".format(accuracy(B,nums,n,mode='single',method='enmf')[0]*100))"
   ]
  },
  {
   "attachments": {},
   "cell_type": "markdown",
   "metadata": {},
   "source": [
    "In the cells above we compare accuracies for the different methods aswell as showcasing how it differs for different digits. Between SVD and EMNF, SVD scores the highest firmly around 95% while ENMF has values below 90. This is to be expected for low values of d, as ENMF sacrifices pricission for time efficiency.\n",
    "Another thing to note is that digits themselves have an effect on how well the program classifies them. Obviosuly digits like 1 or 0 are have most unique design and thefore give the highest scores. While other digits can be more problemetic where some digits might share atributes with others. For example we noticied the biggest challenge our program faces is the digit 6 that the porgram often misclassifies as 5.  "
   ]
  },
  {
   "attachments": {},
   "cell_type": "markdown",
   "metadata": {},
   "source": [
    "### Exercise 3c"
   ]
  },
  {
   "cell_type": "code",
   "execution_count": 24,
   "metadata": {},
   "outputs": [
    {
     "name": "stdout",
     "output_type": "stream",
     "text": [
      "1\n"
     ]
    },
    {
     "data": {
      "image/png": "[encoded data removed]",
      "text/plain": [
       "<Figure size 432x288 with 2 Axes>"
      ]
     },
     "metadata": {
      "needs_background": "light"
     },
     "output_type": "display_data"
    }
   ],
   "source": [
    "def getImg(test,W,num):\n",
    "    '''\n",
    "    Gets the instance of num in the test set that gives\n",
    "    min/max distance to the basis (dictionary W)\n",
    "    '''\n",
    "    dist=[]\n",
    "    for i in range(test.shape[2]):\n",
    "        P_i = orth_proj(W, test[:,num,i])\n",
    "        dist.append(distance(test[:,num,i],P_i))\n",
    "\n",
    "    dist=np.array(dist)\n",
    "    idx=np.argmin(dist)\n",
    "    P = orth_proj(W,test[:,num,idx])\n",
    "\n",
    "    fig, axs = plt.subplots(1,2)\n",
    "    axs[0].imshow(test[:,num,idx].reshape((28,28)),cmap='gray')\n",
    "    axs[1].imshow(P.reshape((28,28)),cmap='gray')\n",
    "    axs[0].set_axis_off()\n",
    "    axs[1].set_axis_off()\n",
    "\n",
    "    return idx, P\n",
    "\n",
    "print(nums[1])\n",
    "idx,P=getImg(test,W_SVD[:,nums[1],:],nums[1])"
   ]
  },
  {
   "attachments": {},
   "cell_type": "markdown",
   "metadata": {},
   "source": [
    "### Exercise 3d"
   ]
  },
  {
   "cell_type": "code",
   "execution_count": 25,
   "metadata": {},
   "outputs": [
    {
     "name": "stdout",
     "output_type": "stream",
     "text": [
      "All classifications are correct!\n"
     ]
    }
   ],
   "source": [
    "n=3\n",
    "wrong = accuracy(B,nums,n,mode='single')[2]  \n",
    "if wrong.size!=0:\n",
    "    wrong=wrong[0]\n",
    "    j=0\n",
    "    i=0\n",
    "\n",
    "    fig, axs = plt.subplots(2,6)\n",
    "    axs[0][0].imshow(wrong.reshape((28,28)),cmap='gray')\n",
    "    axs[0][0].set_axis_off()\n",
    "    axs[1][0].set_axis_off()\n",
    "    k=0\n",
    "    for j in range(0,2):\n",
    "        for i in range (1,6):\n",
    "            axs[j,i].imshow(orth_proj(W_SVD[:,k,:],wrong).reshape((28,28)),cmap='gray')\n",
    "            axs[j,i].set_axis_off()\n",
    "            k+=1\n",
    "else:\n",
    "    print('All classifications are correct!')"
   ]
  },
  {
   "attachments": {},
   "cell_type": "markdown",
   "metadata": {},
   "source": [
    "When missclassifications are found we print a set of images the programm struggled most with. This images are mostly blury shapes with washed out contours and/or shapes that have attributes that fit multiple digits at the same time. "
   ]
  },
  {
   "attachments": {},
   "cell_type": "markdown",
   "metadata": {},
   "source": [
    "### Exercise 3e"
   ]
  },
  {
   "cell_type": "code",
   "execution_count": 26,
   "metadata": {},
   "outputs": [
    {
     "name": "stdout",
     "output_type": "stream",
     "text": [
      "SVD total accuracy: 100.00%\n",
      "ENMF total accuracy: 100.00%\n"
     ]
    }
   ],
   "source": [
    "B_temp, nums_temp = test_img_selection(test,1,[5],mode = 'single')\n",
    "B = np.append(B,B_temp, axis=1)\n",
    "\n",
    "print(\"SVD total accuracy: {:.2f}%\".format(accuracy(B,nums,n,mode='single')[0]*100))\n",
    "print(\"ENMF total accuracy: {:.2f}%\".format(accuracy(B,nums,n,mode='single',method='enmf')[0]*100))"
   ]
  },
  {
   "attachments": {},
   "cell_type": "markdown",
   "metadata": {},
   "source": [
    "We notice increasing accuracy as expected. The more digits we train the program for, the higher the chance the test digits is one of them ressulting in overall improved accuracy rate. Once again this has much to do with what kind of digits we choose to include. Some are more easily distinguishable than others. "
   ]
  },
  {
   "attachments": {},
   "cell_type": "markdown",
   "metadata": {},
   "source": [
    "### Exercise 3f"
   ]
  },
  {
   "cell_type": "code",
   "execution_count": 27,
   "metadata": {},
   "outputs": [
    {
     "data": {
      "image/png": "[encoded data removed]",
      "text/plain": [
       "<Figure size 432x288 with 1 Axes>"
      ]
     },
     "metadata": {
      "needs_background": "light"
     },
     "output_type": "display_data"
    }
   ],
   "source": [
    "n = 1\n",
    "sdf = 1e-2\n",
    "accuracy_arr_SVD = np.array([])\n",
    "accuracy_arr_ENMF = np.array([])\n",
    "classes = [4, 5, 6, 7]      \n",
    "d_arr = np.arange(1,800,100)\n",
    "B, nums = test_img_selection(test[:,:,:10],n,classes, mode = 'multiple')\n",
    "U = []\n",
    "V = []\n",
    "S = []\n",
    "\n",
    "for c in classes:\n",
    "    U_temp, S_temp, V_temp = np.linalg.svd(train[:,c,:], full_matrices = False)\n",
    "    U.append(U_temp)\n",
    "    S.append(S_temp)\n",
    "    V.append(V_temp)\n",
    "\n",
    "U=np.array(U)\n",
    "S=np.array(S)\n",
    "V=np.array(V)\n",
    "i=0\n",
    "\n",
    "\n",
    "for d in d_arr:\n",
    "    \n",
    "    W_SVD=[]\n",
    "    for i in range(len(classes)):\n",
    "        W_SVD.append(trunc_SVD(U[i], S[i], V[i], d)[0])  \n",
    "\n",
    "    W_SVD = np.array(W_SVD).transpose(1,0,2)       \n",
    "    W_ENMF = create_dict_matrix_ENMF(train[:,4:8,:], d)\n",
    "\n",
    "    accuracy_arr_SVD = np.append(accuracy_arr_SVD, accuracy(B, nums, n, classes)*100)\n",
    "    accuracy_arr_ENMF = np.append(accuracy_arr_ENMF, accuracy(B, nums, n, classes, method='enmf')*100)\n",
    "    i+=1    \n",
    "\n",
    "plt.plot(d_arr, accuracy_arr_ENMF, label = \"ENMF\")\n",
    "plt.plot(d_arr, accuracy_arr_SVD, label = \"SVD\")\n",
    "plt.title(\"Accuracy Classifying 10 instances of 4 digits from the test set \")\n",
    "plt.xlabel('Number of basis vectors b')\n",
    "plt.ylabel('Right classifications [%]')\n",
    "plt.legend()\n",
    "plt.show()"
   ]
  },
  {
   "attachments": {},
   "cell_type": "markdown",
   "metadata": {},
   "source": [
    "Graph above demonstrates how choice of d (number of basis vectors) effects the accuracy for SVD and EMNF methods. Again the exact shape depens on how many and what kind of digits we train for, but the main difference is that SVD starts with highest accuracy keeps the value steady up untill roughly d = 400 after wich the accuracy starts dropping untill it stabelizes on a new value around 60%.\n",
    "\n",
    "EMMF has a growing trend from the start that eventually brings it to a steady high level. The graph then has a sudden drop like with SVD but at a critical value it starts growing again, whereas SVD keeps dropping. For high d starting from 500 ENMF has significanly better accuracy while SVD dominates at lower values. "
   ]
  },
  {
   "attachments": {},
   "cell_type": "markdown",
   "metadata": {},
   "source": [
    "## *PROJECT EXTRA: user input*"
   ]
  },
  {
   "cell_type": "code",
   "execution_count": 28,
   "metadata": {},
   "outputs": [],
   "source": [
    "W_SVD = create_dict_matrix_SVD(train, d = 32)\n",
    "W_ENMF = create_dict_matrix_ENMF(train, d = 32)"
   ]
  },
  {
   "attachments": {},
   "cell_type": "markdown",
   "metadata": {},
   "source": [
    "This section allows to test users own handwritten digit. Given a png file with the drawing, the pogram does the neccecary edits to the image, before comparing it to the entries in the pre trained dictionaries. Finally propgram outputs the class that recieved the highest score. "
   ]
  },
  {
   "cell_type": "code",
   "execution_count": 29,
   "metadata": {},
   "outputs": [
    {
     "data": {
      "image/png": "[encoded data removed]",
      "text/plain": [
       "<Figure size 432x288 with 1 Axes>"
      ]
     },
     "metadata": {
      "needs_background": "light"
     },
     "output_type": "display_data"
    },
    {
     "data": {
      "image/png": "[encoded data removed]",
      "text/plain": [
       "<Figure size 432x288 with 1 Axes>"
      ]
     },
     "metadata": {
      "needs_background": "light"
     },
     "output_type": "display_data"
    },
    {
     "name": "stdout",
     "output_type": "stream",
     "text": [
      "Class: 7\n"
     ]
    }
   ],
   "source": [
    "filename = '7'\n",
    "file = rf'{filename}.png'\n",
    "test_img = ImageOps.grayscale(Image.open(file))\n",
    "plt.imshow(test_img, cmap = 'gray')\n",
    "test_img = ImageOps.invert(test_img)\n",
    "plt.show()\n",
    "test_img_opt = test_img.resize((28,28))\n",
    "\n",
    "test_img_arr = np.reshape(np.array(test_img_opt),(784,))\n",
    "\n",
    "plt.imshow(test_img_arr.reshape((28,28)), cmap = 'gray')\n",
    "plt.show()\n",
    "print('Class:',bestfit_SVD(W_SVD, DEFAULT_CLASSES, test_img_arr)[1])"
   ]
  },
  {
   "attachments": {},
   "cell_type": "markdown",
   "metadata": {},
   "source": [
    "## Conclusion\n"
   ]
  },
  {
   "attachments": {},
   "cell_type": "markdown",
   "metadata": {},
   "source": [
    "In this project we sucessfully taught a machine to fully automatically recognize handwritten digits based on what it was previoulsly taught in the train phase. \n",
    "The whole classificasion is based on dictionary learning. New test data gets projected onto existing train data and the calculated projection and distances reveal how close new data is to something the program has already seen before. $$ $$\n",
    "\n",
    "In this project we explored two different dictionary generating methods SVD and ENMF. Throughout the project we tested both the methods for strengths and weaknesses in order to find where each is more suited - yields best ressults AND most efficient execution. $$ $$\n",
    "\n",
    "SVD is the most recource expensive as it always has to do the factorization that as dicussed might become a big run time issue for larger projects. The benefit is overall studriness as it's both more mathematical precise, and has most advanced method for storing usefull and filtering out uneccecary information. This is the go-to method for small samplespaces and training sets (small d values). $$ $$\n",
    "\n",
    "ENMF on the other hand is based entirely on random selection. This method saves run-time, and as long as the datasets are suffiucently large it will yield satisfacoty accuracy not far behind SVD. As we checked in part 1 both reconstruction capability and data storage suffers when we deal with small training sets. Accidental removal of an important basis is just as probalble as useless one. The only real protection in larger datasets- larger number of basises that cary important infromation that survive the random selection. $$ $$\n",
    "\n",
    "ENMF is not the only contributor of randomness as handwritten digits have added issues. Some are easier to classify by default as they are very unique, while others share desing features and are easily interchangable. The MNIST dataset has aswell some questionable\" entries (that even a human can missclassify) adds another layer unperdictable errors. The more digits our programm is trained for the better the total prediction accuracy will be. But this is again cost efficient and not always the favorable dicission in industry. The Program is still capable of accurate classification as long as we are clever about how much and what kind of training to give it. $$ $$\n",
    "\n",
    "To think that the whole process can be summraized down to the fact that we just represent images as sets with digits after wich is just plain linear algebra all the way to the final numpy.argmin and the programm has the class (we hopefully expect), practically doing a memory based but autonomous dicission."
   ]
  }
 ],
 "metadata": {
  "kernelspec": {
   "display_name": "Python 3",
   "language": "python",
   "name": "python3"
  },
  "language_info": {
   "codemirror_mode": {
    "name": "ipython",
    "version": 3
   },
   "file_extension": ".py",
   "mimetype": "text/x-python",
   "name": "python",
   "nbconvert_exporter": "python",
   "pygments_lexer": "ipython3",
   "version": "3.10.1"
  },
  "orig_nbformat": 4
 },
 "nbformat": 4,
 "nbformat_minor": 2
}
